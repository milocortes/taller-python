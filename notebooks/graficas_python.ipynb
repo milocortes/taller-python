{
 "cells": [
  {
   "cell_type": "markdown",
   "metadata": {},
   "source": [
    "<a href=\"https://colab.research.google.com/github/milocortes/taller-python/blob/main/notebooks/graficas_python.ipynb\" target=\"_parent\"><img src=\"https://colab.research.google.com/assets/colab-badge.svg\" alt=\"Open In Colab\"/></a>"
   ]
  },
  {
   "cell_type": "markdown",
   "metadata": {},
   "source": [
    "# Gráficas en python"
   ]
  },
  {
   "cell_type": "markdown",
   "metadata": {},
   "source": [
    "Utilizaremos algunos ejemplos del siguiente link https://python-course.eu/applications-python/graphs-python.php"
   ]
  },
  {
   "cell_type": "markdown",
   "metadata": {},
   "source": [
    "<img src=\"images/G.jpeg\">"
   ]
  },
  {
   "cell_type": "markdown",
   "metadata": {},
   "source": [
    "The graph in our illustration can be implemented in the following way:"
   ]
  },
  {
   "cell_type": "code",
   "execution_count": 2,
   "metadata": {},
   "outputs": [],
   "source": [
    "# The keys of the dictionary above are the nodes of our graph.\n",
    "graph = { \"a\" : {\"c\"},\n",
    "          \"b\" : {\"c\", \"e\"},\n",
    "          \"c\" : {\"a\", \"b\", \"d\", \"e\"},\n",
    "          \"d\" : {\"c\"},\n",
    "          \"e\" : {\"c\", \"b\"},\n",
    "          \"f\" : {}\n",
    "        }"
   ]
  },
  {
   "cell_type": "markdown",
   "metadata": {},
   "source": [
    "An edge can also be ideally implemented as a set with two elements, i.e. the end nodes. This is ideal for undirected graphs. For directed graphs we would prefer lists or tuples to implement edges."
   ]
  },
  {
   "cell_type": "markdown",
   "metadata": {},
   "source": [
    "Function to generate the list of all edges:"
   ]
  },
  {
   "cell_type": "code",
   "execution_count": 7,
   "metadata": {},
   "outputs": [
    {
     "data": {
      "text/plain": [
       "[{'a', 'c'},\n",
       " {'b', 'c'},\n",
       " {'b', 'e'},\n",
       " {'c', 'd'},\n",
       " {'a', 'c'},\n",
       " {'c', 'e'},\n",
       " {'b', 'c'},\n",
       " {'c', 'd'},\n",
       " {'c', 'e'},\n",
       " {'b', 'e'}]"
      ]
     },
     "execution_count": 7,
     "metadata": {},
     "output_type": "execute_result"
    }
   ],
   "source": [
    "def generate_edges(graph):\n",
    "    edges = []\n",
    "    for node in graph:\n",
    "        for neighbour in graph[node]:\n",
    "            edges.append({node, neighbour})\n",
    "\n",
    "    return edges\n",
    "\n",
    "generate_edges(graph)"
   ]
  },
  {
   "cell_type": "markdown",
   "metadata": {},
   "source": [
    "As we can see, there is no edge containing the node \"f\". \"f\" is an isolated node of our graph. The following Python function calculates the isolated nodes of a given graph:"
   ]
  },
  {
   "cell_type": "code",
   "execution_count": 8,
   "metadata": {},
   "outputs": [
    {
     "data": {
      "text/plain": [
       "{'f'}"
      ]
     },
     "execution_count": 8,
     "metadata": {},
     "output_type": "execute_result"
    }
   ],
   "source": [
    "def find_isolated_nodes(graph):\n",
    "    \"\"\" returns a set of isolated nodes. \"\"\"\n",
    "    isolated = set()\n",
    "    for node in graph:\n",
    "        if not graph[node]:\n",
    "            isolated.add(node)\n",
    "    return isolated\n",
    "\n",
    "find_isolated_nodes(graph)"
   ]
  },
  {
   "cell_type": "code",
   "execution_count": 13,
   "metadata": {},
   "outputs": [
    {
     "data": {
      "text/plain": [
       "{'a', 'b', 'd', 'e'}"
      ]
     },
     "execution_count": 13,
     "metadata": {},
     "output_type": "execute_result"
    }
   ],
   "source": [
    "#%%%% Hagamos algunas funciones de python para obtener información de la gráfica\n",
    "\n",
    "'''\n",
    "    Función: edges(G,n)\n",
    "    \n",
    "    Descripción: regresa una lista de todas las aristas de un vértice\n",
    "    \n",
    "    Argumentos: \n",
    "                * G : diccionario que representa una gráfica \n",
    "                * n : vértice de la gráfica \n",
    "'''\n",
    "\n",
    "def edges(G,n):\n",
    "    return G[n]\n",
    "\n",
    "edges(graph,\"c\")"
   ]
  },
  {
   "cell_type": "code",
   "execution_count": 12,
   "metadata": {},
   "outputs": [
    {
     "data": {
      "text/plain": [
       "{'a', 'b', 'c', 'd', 'e', 'f'}"
      ]
     },
     "execution_count": 12,
     "metadata": {},
     "output_type": "execute_result"
    }
   ],
   "source": [
    "'''\n",
    "    Función: get_all_vertices(G)\n",
    "    \n",
    "    Descripción: regresa los vértices de una gráfica en un conjunto\n",
    "    \n",
    "    Argumentos:\n",
    "                * G : diccionario que representa una gráfica \n",
    "'''\n",
    "\n",
    "def get_all_vertices(G):\n",
    "    return set(G.keys())\n",
    "\n",
    "get_all_vertices(graph)"
   ]
  },
  {
   "cell_type": "code",
   "execution_count": 14,
   "metadata": {},
   "outputs": [
    {
     "data": {
      "text/plain": [
       "[{'a', 'c'}, {'b', 'c'}, {'b', 'e'}, {'c', 'd'}, {'c', 'e'}]"
      ]
     },
     "execution_count": 14,
     "metadata": {},
     "output_type": "execute_result"
    }
   ],
   "source": [
    "'''\n",
    "    Función: get_all_edges(G)\n",
    "    \n",
    "    Descripción: regresa todas las aristas de la gráfica\n",
    "    \n",
    "    Argumentos:\n",
    "                * G: diccionario que representa una gráfica\n",
    "'''\n",
    "\n",
    "def get_all_edges(G):\n",
    "    \n",
    "    edges = []\n",
    "    \n",
    "    for vertex in G:\n",
    "        for neighbour in G[vertex]:\n",
    "            if {vertex,neighbour} not in edges:\n",
    "                edges.append({vertex,neighbour})\n",
    "    \n",
    "    return edges\n",
    "\n",
    "get_all_edges(graph)"
   ]
  },
  {
   "cell_type": "code",
   "execution_count": 23,
   "metadata": {},
   "outputs": [
    {
     "name": "stdout",
     "output_type": "stream",
     "text": [
      "The path from vertex \"a\" to vertex \"b\":\n",
      "['a', 'c', 'e', 'b']\n"
     ]
    }
   ],
   "source": [
    "'''\n",
    "    Función: find_path(G, start_vertex, end_vertex, path=None)\n",
    "    \n",
    "    Descripción: Encuentra una trayectoria de un vértice de inicio a un vértice final de una gráfica\n",
    "    \n",
    "    Argumentos:\n",
    "                * G: diccionario que representa una gráfica\n",
    "                * start_vertex: vértice de inicio\n",
    "                * end_vertex: vértice final\n",
    "                * path : lista que contiene los vértices de la trayectoria\n",
    "'''\n",
    "\n",
    "def find_path(G, start_vertex, end_vertex, path = None):\n",
    "    \n",
    "    if path == None:\n",
    "        path = []\n",
    "    \n",
    "    path = path + [start_vertex]\n",
    "    \n",
    "    if start_vertex == end_vertex:\n",
    "        return path\n",
    "    \n",
    "    if start_vertex not in G:\n",
    "        return None\n",
    "    \n",
    "    for neighbour in G[start_vertex]:\n",
    "        if neighbour not in path:\n",
    "            extended_path = find_path(G,neighbour,end_vertex,path)\n",
    "            \n",
    "            if extended_path:\n",
    "                return extended_path\n",
    "    return None\n",
    "\n",
    "print('The path from vertex \"a\" to vertex \"b\":')\n",
    "path = find_path(graph,\"a\", \"b\")\n",
    "print(path)"
   ]
  },
  {
   "cell_type": "code",
   "execution_count": 28,
   "metadata": {},
   "outputs": [
    {
     "name": "stdout",
     "output_type": "stream",
     "text": [
      "All paths from vertex \"a\" to vertex \"b\":\n",
      "[['a', 'c', 'e', 'b'], ['a', 'c', 'b']]\n"
     ]
    }
   ],
   "source": [
    "'''\n",
    "    Función: all_find_path(G, start_vertex, end_vertex, path=[])\n",
    "    \n",
    "    Descripción: Encuentra todas las trayectorias de un vértice de inicio a un vértice final de una gráfica\n",
    "    \n",
    "    Argumentos:\n",
    "                * G: diccionario que representa una gráfica\n",
    "                * start_vertex: vértice de inicio\n",
    "                * end_vertex: vértice final\n",
    "                * path : lista que contiene los vértices de la trayectoria\n",
    "'''\n",
    "\n",
    "def find_all_paths(G, start_vertex, end_vertex, path = []):\n",
    "\n",
    "    path = path + [start_vertex]\n",
    "    \n",
    "    if start_vertex == end_vertex:\n",
    "        return [path]\n",
    "    \n",
    "    if start_vertex not in graph:\n",
    "        return []\n",
    "    \n",
    "    paths = []\n",
    "\n",
    "    for neighbour in G[start_vertex]:\n",
    "\n",
    "        if neighbour not in path:\n",
    "\n",
    "            extended_paths = find_all_paths(G,neighbour,end_vertex,path)\n",
    "            \n",
    "            for p in extended_paths: \n",
    "                paths.append(p)\n",
    "    return paths\n",
    "\n",
    "print('All paths from vertex \"a\" to vertex \"b\":')\n",
    "path = find_all_paths(graph,\"a\", \"b\")\n",
    "print(path)\n"
   ]
  }
 ],
 "metadata": {
  "kernelspec": {
   "display_name": "Python 3",
   "language": "python",
   "name": "python3"
  },
  "language_info": {
   "codemirror_mode": {
    "name": "ipython",
    "version": 3
   },
   "file_extension": ".py",
   "mimetype": "text/x-python",
   "name": "python",
   "nbconvert_exporter": "python",
   "pygments_lexer": "ipython3",
   "version": "3.7.6"
  }
 },
 "nbformat": 4,
 "nbformat_minor": 4
}
